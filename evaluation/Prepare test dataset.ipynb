{
 "cells": [
  {
   "cell_type": "code",
   "execution_count": 8,
   "id": "d89237fd",
   "metadata": {},
   "outputs": [],
   "source": [
    "import re\n",
    "\n",
    "test_set_doc = 'validate.txt'\n",
    "test_set_doc_checked = test_set_doc + '.checked'"
   ]
  },
  {
   "cell_type": "markdown",
   "id": "34a60e7f",
   "metadata": {},
   "source": [
    "## Step 1: Load test set"
   ]
  },
  {
   "cell_type": "code",
   "execution_count": 9,
   "id": "6403b6b4",
   "metadata": {},
   "outputs": [
    {
     "name": "stdout",
     "output_type": "stream",
     "text": [
      "Loaded 199 lines\n"
     ]
    }
   ],
   "source": [
    "test_items = []\n",
    "\n",
    "with open(test_set_doc, encoding='utf-8') as infile:\n",
    "    for line in infile:\n",
    "        if not '\\t' in line:\n",
    "            continue\n",
    "        test_items.append(line.strip().split('\\t')[1].strip())\n",
    "\n",
    "print(f'Loaded {len(test_items)} lines')"
   ]
  },
  {
   "cell_type": "markdown",
   "id": "f74148f1",
   "metadata": {},
   "source": [
    "Test set annotation:\n",
    "- Preverb marked by a prefixed backslash followed by an ID number, e.g. `meg\\1`\n",
    "- Word from which the preverb was separated marked by a pipe followed by the same ID number, e.g. `főzve|1`\n",
    "- Within the same line, different verb-prefix pairs must (obviously) receive different ID numbers.\n",
    "- Only single-digit ID numbers allowed.\n",
    "- A preverb that is not separated from any word in the sentence (ellipsis etc.) is marked with a zero ID:\n",
    "    * `\"Hazakísérhetlek?\" \"Meg\\0 hát.\"`\n",
    "- Any number of preverbs can have the 0 ID within the same line.\n",
    "- A verb directly followed by preverb is only annotated if the preverb is not separated from the preceding verb:\n",
    "    * `főzte meg`\n",
    "    * but: `főzte|1 volna meg\\1`\n",
    "- Normally there is a 1:1 correspondence between preverbs and verbs. However, there are exceptions, and these are annotated accordingly, e.g. `Se ki\\1, se be\\1 nem lehetett menni|1 Budakesziről`"
   ]
  },
  {
   "cell_type": "markdown",
   "id": "4b9ebdd7",
   "metadata": {},
   "source": [
    "## Step 2: Check test set for errors and reformat for emtsv tok"
   ]
  },
  {
   "cell_type": "code",
   "execution_count": 10,
   "id": "c1df00cc",
   "metadata": {},
   "outputs": [],
   "source": [
    "with open(test_set_doc_checked, 'w', encoding='utf-8') as outfile:\n",
    "    for t in test_items:\n",
    "        prev_indices = re.findall(r'\\\\([1-5])', t)\n",
    "        if prev_indices is None:\n",
    "            print(\"No prevs:\", t) # unannotated line\n",
    "            continue\n",
    "        verb_indices = re.findall(r'\\|([1-5])', t)\n",
    "        if (sorted(list(set(prev_indices))) != sorted(prev_indices) or # any duplicate indices\n",
    "            sorted(list(set(verb_indices))) != sorted(verb_indices) or\n",
    "            sorted(prev_indices) != sorted(verb_indices) # any unmatched indices\n",
    "           ):\n",
    "            print('Possible error:', t)\n",
    "            print(prev_indices)\n",
    "            print(verb_indices)\n",
    "        outfile.write(t.replace('\\\\', '_p').replace('|', '_v') + '\\n')"
   ]
  },
  {
   "cell_type": "markdown",
   "id": "80e8d74b",
   "metadata": {},
   "source": [
    "If there are errors, correct in input file, then back to step 1."
   ]
  },
  {
   "cell_type": "markdown",
   "id": "0bd928e7",
   "metadata": {},
   "source": [
    "## Step 3: Tokenize in emtsv, insert testid column, run morph,pos"
   ]
  },
  {
   "cell_type": "code",
   "execution_count": 11,
   "id": "bb3b191c",
   "metadata": {},
   "outputs": [
    {
     "name": "stdout",
     "output_type": "stream",
     "text": [
      "tok_output done\n",
      "morph_input done\n",
      "pos_output done\n"
     ]
    }
   ],
   "source": [
    "# replace type by cat on linux\n",
    "!type {test_set_doc_checked} | docker run -i mtaril/emtsv tok > tok_output.txt\n",
    "\n",
    "print(\"tok_output done\")\n",
    "\n",
    "with open('tok_output.txt', encoding='utf-8') as infile:\n",
    "    with open('morph_input.txt', 'w', encoding='utf-8') as outfile:\n",
    "        outfile.write(next(infile).strip() + '\\ttestid\\n')\n",
    "        for line in infile:\n",
    "            if line.strip() == '':\n",
    "                outfile.write(line)\n",
    "                continue\n",
    "            testid = '.' # avoid removal of empty column by xtsv\n",
    "            m = re.findall('_([pv]\\d)', line)\n",
    "            if m:\n",
    "                testid = m[0]\n",
    "                line = re.sub('_[pv]\\d', '', line)\n",
    "            outfile.write(line.strip() + '\\t' + testid + '\\n')\n",
    "\n",
    "print(\"morph_input done\")\n",
    "\n",
    "!type morph_input.txt | docker run -i mtaril/emtsv morph,pos > pos_output.txt\n",
    "\n",
    "print(\"pos_output done\")"
   ]
  },
  {
   "cell_type": "code",
   "execution_count": 12,
   "id": "44c1e903",
   "metadata": {},
   "outputs": [],
   "source": [
    "import sys\n",
    "sys.path.append('../preverb')\n",
    "from word import Word"
   ]
  },
  {
   "cell_type": "markdown",
   "id": "302813c5",
   "metadata": {},
   "source": [
    "## Step 4: Check if preverbs are annotated as preverbs and verb-like tokens as verbs"
   ]
  },
  {
   "cell_type": "code",
   "execution_count": 13,
   "id": "91fa2a92",
   "metadata": {
    "scrolled": false
   },
   "outputs": [
    {
     "name": "stdout",
     "output_type": "stream",
     "text": [
      "Bad verb (?) on line 760: fogadható\t\" \"\tv1\t[{\"lemma\": \"fogadható\", \"tag\": \"[/Adj][Nom]\", \"morphana\": \"fogad[/V]=fogad+ható[_ModPtcp/Adj]=ható+[Nom]=\", \"readable\": \"fogad[/V] + ható[_ModPtcp/Adj] + [Nom]\", \"twolevel\": \"f:f o:o g:g a:a d:d :[/V] h:h a:a t:t ó:ó :[_ModPtcp/Adj] :[Nom]\"}]\tfogadható\t[/Adj][Nom] \n",
      "\n",
      "Bad verb (?) on line 1142: avatkozás\t\" \"\tv1\t[{\"lemma\": \"avatkozás\", \"tag\": \"[/N][Nom]\", \"morphana\": \"avatkozik[/V]=avatkoz+ás[_Ger/N]=ás+[Nom]=\", \"readable\": \"avatkozik[/V]=avatkoz + ás[_Ger/N] + [Nom]\", \"twolevel\": \"a:a v:v a:a t:t k:k o:o z:z :i :k :[/V] á:á s:s :[_Ger/N] :[Nom]\"}]\tavatkozás\t[/N][Nom] \n",
      "\n",
      "Bad verb (?) on line 1149: képzelhető\t\" \"\tv1\t[{\"lemma\": \"képzelhető\", \"tag\": \"[/Adj][Nom]\", \"morphana\": \"képzel[/V]=képzel+hető[_ModPtcp/Adj]=hető+[Nom]=\", \"readable\": \"képzel[/V] + hető[_ModPtcp/Adj] + [Nom]\", \"twolevel\": \"k:k é:é p:p z:z e:e l:l :[/V] h:h e:e t:t ő:ő :[_ModPtcp/Adj] :[Nom]\"}, {\"lemma\": \"képzelhető\", \"tag\": \"[/Adj][Nom]\", \"morphana\": \"képzelhető[/Adj]=képzelhető+[Nom]=\", \"readable\": \"képzelhető[/Adj] + [Nom]\", \"twolevel\": \"k:k é:é p:p z:z e:e l:l h:h e:e t:t ő:ő :[/Adj] :[Nom]\"}]\tképzelhető\t[/Adj][Nom] \n",
      "\n",
      "Bad verb (?) on line 1276: felelő\t\"\"\tv1\t[{\"lemma\": \"felelő\", \"tag\": \"[/Adj][Nom]\", \"morphana\": \"felel[/V]=felel+ő[_ImpfPtcp/Adj]=ő+[Nom]=\", \"readable\": \"felel[/V] + ő[_ImpfPtcp/Adj] + [Nom]\", \"twolevel\": \"f:f e:e l:l e:e l:l :[/V] ő:ő :[_ImpfPtcp/Adj] :[Nom]\"}]\tfelelő\t[/Adj][Nom] \n",
      "\n",
      "Bad verb (?) on line 1294: ítélhető\t\" \"\tv2\t[{\"lemma\": \"ítélhető\", \"tag\": \"[/Adj][Nom]\", \"morphana\": \"ítél[/V]=ítél+hető[_ModPtcp/Adj]=hető+[Nom]=\", \"readable\": \"ítél[/V] + hető[_ModPtcp/Adj] + [Nom]\", \"twolevel\": \"í:í t:t é:é l:l :[/V] h:h e:e t:t ő:ő :[_ModPtcp/Adj] :[Nom]\"}]\títélhető\t[/Adj][Nom] \n",
      "\n",
      "Bad verb (?) on line 1393: ébredőnek\t\" \"\tv1\t[{\"lemma\": \"ébredő\", \"tag\": \"[/Adj][Dat]\", \"morphana\": \"ébred[/V]=ébred+ő[_ImpfPtcp/Adj]=ő+nek[Dat]=nek\", \"readable\": \"ébred[/V] + ő[_ImpfPtcp/Adj] + nek[Dat]\", \"twolevel\": \"é:é b:b r:r e:e d:d :[/V] ő:ő :[_ImpfPtcp/Adj] n:n e:e k:k :[Dat]\"}, {\"lemma\": \"ébredő\", \"tag\": \"[/N][Dat]\", \"morphana\": \"ébredő[/N]=ébredő+nek[Dat]=nek\", \"readable\": \"ébredő[/N] + nek[Dat]\", \"twolevel\": \"é:é b:b r:r e:e d:d ő:ő :[/N] n:n e:e k:k :[Dat]\"}]\tébredő\t[/Adj][Dat] \n",
      "\n",
      "Bad verb (?) on line 1447: foghatók\t\"\"\tv1\t[{\"lemma\": \"fogható\", \"tag\": \"[/Adj][Pl][Nom]\", \"morphana\": \"fog[/N]=fog+hat[/V]=hat+ó[_ImpfPtcp/Adj]=ó+k[Pl]=k+[Nom]=\", \"readable\": \"fog[/N] + hat[/V] + ó[_ImpfPtcp/Adj] + k[Pl] + [Nom]\", \"twolevel\": \"f:f o:o g:g :[/N] h:h a:a t:t :[/V] ó:ó :[_ImpfPtcp/Adj] k:k :[Pl] :[Nom]\"}, {\"lemma\": \"fogható\", \"tag\": \"[/Adj][Pl][Nom]\", \"morphana\": \"fog[/V]=fog+ható[_ModPtcp/Adj]=ható+k[Pl]=k+[Nom]=\", \"readable\": \"fog[/V] + ható[_ModPtcp/Adj] + k[Pl] + [Nom]\", \"twolevel\": \"f:f o:o g:g :[/V] h:h a:a t:t ó:ó :[_ModPtcp/Adj] k:k :[Pl] :[Nom]\"}, {\"lemma\": \"fogható\", \"tag\": \"[/Adj][Pl][Nom]\", \"morphana\": \"fogható[/Adj]=fogható+k[Pl]=k+[Nom]=\", \"readable\": \"fogható[/Adj] + k[Pl] + [Nom]\", \"twolevel\": \"f:f o:o g:g h:h a:a t:t ó:ó :[/Adj] k:k :[Pl] :[Nom]\"}]\tfogható\t[/Adj][Pl][Nom] \n",
      "\n",
      "Bad verb (?) on line 1781: mondható\t\"\"\tv1\t[{\"lemma\": \"mondható\", \"tag\": \"[/Adj][Nom]\", \"morphana\": \"mond[/V]=mond+ható[_ModPtcp/Adj]=ható+[Nom]=\", \"readable\": \"mond[/V] + ható[_ModPtcp/Adj] + [Nom]\", \"twolevel\": \"m:m o:o n:n d:d :[/V] h:h a:a t:t ó:ó :[_ModPtcp/Adj] :[Nom]\"}]\tmondható\t[/Adj][Nom] \n",
      "\n",
      "Bad prev on line 1829: utánam\t\" \"\tp1\t[{\"lemma\": \"után\", \"tag\": \"[/Post][1Sg]\", \"morphana\": \"én[/N|Pro]=+után[/Post]=után+am[1Sg]=am\", \"readable\": \"én[/N|Pro]= + után[/Post] + am[1Sg]\", \"twolevel\": \":é :n :[/N|Pro] u:u t:t á:á n:n :[/Post] a:a m:m :[ :1 :S :g :]\"}]\tután\t[/Post][1Sg] \n",
      "\n",
      "Bad verb (?) on line 2119: Indulás\t\" \"\tv1\t[{\"lemma\": \"indulás\", \"tag\": \"[/N][Nom]\", \"morphana\": \"indul[/V]=indul+ás[_Ger/N]=ás+[Nom]=\", \"readable\": \"indul[/V] + ás[_Ger/N] + [Nom]\", \"twolevel\": \"i:i n:n d:d u:u l:l :[/V] á:á s:s :[_Ger/N] :[Nom]\"}, {\"lemma\": \"indulás\", \"tag\": \"[/N][Nom]\", \"morphana\": \"indulás[/N]=indulás+[Nom]=\", \"readable\": \"indulás[/N] + [Nom]\", \"twolevel\": \"i:i n:n d:d u:u l:l á:á s:s :[/N] :[Nom]\"}]\tindulás\t[/N][Nom] \n",
      "\n",
      "Bad verb (?) on line 2466: bányászható\t\" \"\tv1\t[{\"lemma\": \"bányászható\", \"tag\": \"[/Adj][Nom]\", \"morphana\": \"bány<a>ász[/N]=bányász+hat[/V]=hat+ó[_ImpfPtcp/Adj]=ó+[Nom]=\", \"readable\": \"bány<a>ász[/N]=bányász + hat[/V] + ó[_ImpfPtcp/Adj] + [Nom]\", \"twolevel\": \"b:b á:á n:n y:y á:< s:a z:> :á :s :z :[/N] h:h a:a t:t :[/V] ó:ó :[_ImpfPtcp/Adj] :[Nom]\"}, {\"lemma\": \"bányászható\", \"tag\": \"[/Adj][Nom]\", \"morphana\": \"bányászik[/V]=bányász+ható[_ModPtcp/Adj]=ható+[Nom]=\", \"readable\": \"bányászik[/V]=bányász + ható[_ModPtcp/Adj] + [Nom]\", \"twolevel\": \"b:b á:á n:n y:y á:á s:s z:z :i :k :[/V] h:h a:a t:t ó:ó :[_ModPtcp/Adj] :[Nom]\"}]\tbányászható\t[/Adj][Nom] \n",
      "\n",
      "Bad verb (?) on line 3264: érhető\t\" \"\tv1\t[{\"lemma\": \"érhető\", \"tag\": \"[/Adj][Nom]\", \"morphana\": \"ér[/V]=ér+hető[_ModPtcp/Adj]=hető+[Nom]=\", \"readable\": \"ér[/V] + hető[_ModPtcp/Adj] + [Nom]\", \"twolevel\": \"é:é r:r :[/V] h:h e:e t:t ő:ő :[_ModPtcp/Adj] :[Nom]\"}, {\"lemma\": \"érhető\", \"tag\": \"[/Adj][Nom]\", \"morphana\": \"érik[/V]=ér+hető[_ModPtcp/Adj]=hető+[Nom]=\", \"readable\": \"érik[/V]=ér + hető[_ModPtcp/Adj] + [Nom]\", \"twolevel\": \"é:é r:r :i :k :[/V] h:h e:e t:t ő:ő :[_ModPtcp/Adj] :[Nom]\"}]\térhető\t[/Adj][Nom] \n",
      "\n",
      "Bad prev on line 3471: hozzá\t\" \"\tp1\t[{\"lemma\": \"ő\", \"tag\": \"[/N|Pro][All][3Sg]\", \"morphana\": \"ő[/N|Pro]=+hozzá[All]=hozzá+[3Sg]=\", \"readable\": \"ő[/N|Pro]= + hozzá[All] + [3Sg]\", \"twolevel\": \":ő :[/N|Pro] h:h o:o z:z z:z á:á :[All] :[ :3 :S :g :]\"}, {\"lemma\": \"hozzá\", \"tag\": \"[/Prev]\", \"morphana\": \"hozzá[/Prev]=hozzá\", \"readable\": \"hozzá[/Prev]\", \"twolevel\": \"h:h o:o z:z z:z á:á :[/Prev]\"}]\tő\t[/N|Pro][All][3Sg] \n",
      "\n",
      "Bad verb (?) on line 4374: adhatók\t\" \"\tv1\t[{\"lemma\": \"adható\", \"tag\": \"[/Adj][Pl][Nom]\", \"morphana\": \"ad[/V]=ad+ható[_ModPtcp/Adj]=ható+k[Pl]=k+[Nom]=\", \"readable\": \"ad[/V] + ható[_ModPtcp/Adj] + k[Pl] + [Nom]\", \"twolevel\": \"a:a d:d :[/V] h:h a:a t:t ó:ó :[_ModPtcp/Adj] k:k :[Pl] :[Nom]\"}]\tadható\t[/Adj][Pl][Nom] \n",
      "\n",
      "Bad verb (?) on line 4502: emelhető\t\" \"\tv1\t[{\"lemma\": \"emelhető\", \"tag\": \"[/Adj][Nom]\", \"morphana\": \"emel[/V]=emel+hető[_ModPtcp/Adj]=hető+[Nom]=\", \"readable\": \"emel[/V] + hető[_ModPtcp/Adj] + [Nom]\", \"twolevel\": \"e:e m:m e:e l:l :[/V] h:h e:e t:t ő:ő :[_ModPtcp/Adj] :[Nom]\"}]\temelhető\t[/Adj][Nom] \n",
      "\n",
      "Bad verb (?) on line 4776: küldött\t\" \"\tv1\t[{\"lemma\": \"küld\", \"tag\": \"[/V][Pst.NDef.3Sg]\", \"morphana\": \"küld[/V]=küld+ött[Pst.NDef.3Sg]=ött\", \"readable\": \"küld[/V] + ött[Pst.NDef.3Sg]\", \"twolevel\": \"k:k ü:ü l:l d:d :[/V] ö:ö t:t t:t :[Pst.NDef.3Sg]\"}, {\"lemma\": \"küldött\", \"tag\": \"[/Adj][Nom]\", \"morphana\": \"küld[/V]=küld+ött[_PerfPtcp/Adj]=ött+[Nom]=\", \"readable\": \"küld[/V] + ött[_PerfPtcp/Adj] + [Nom]\", \"twolevel\": \"k:k ü:ü l:l d:d :[/V] ö:ö t:t t:t :[_PerfPtcp/Adj] :[Nom]\"}, {\"lemma\": \"küldött\", \"tag\": \"[/Adj][Nom]\", \"morphana\": \"küldött[/Adj]=küldött+[Nom]=\", \"readable\": \"küldött[/Adj] + [Nom]\", \"twolevel\": \"k:k ü:ü l:l d:d ö:ö t:t t:t :[/Adj] :[Nom]\"}, {\"lemma\": \"küldött\", \"tag\": \"[/N][Nom]\", \"morphana\": \"küldött[/N]=küldött+[Nom]=\", \"readable\": \"küldött[/N] + [Nom]\", \"twolevel\": \"k:k ü:ü l:l d:d ö:ö t:t t:t :[/N] :[Nom]\"}]\tküldött\t[/Adj][Nom] \n",
      "\n",
      "Bad verb (?) on line 5034: zárva\t\" \"\tv1\t[{\"lemma\": \"zár\", \"tag\": \"[/V][_AdvPtcp/Adv]\", \"morphana\": \"zár[/V]=zár+va[_AdvPtcp/Adv]=va\", \"readable\": \"zár[/V] + va[_AdvPtcp/Adv]\", \"twolevel\": \"z:z á:á r:r :[/V] v:v a:a :[_AdvPtcp/Adv]\"}, {\"lemma\": \"zárva\", \"tag\": \"[/Adv]\", \"morphana\": \"zárva[/Adv]=zárva\", \"readable\": \"zárva[/Adv]\", \"twolevel\": \"z:z á:á r:r v:v a:a :[/Adv]\"}]\tzárva\t[/Adv] \n",
      "\n",
      "Bad verb (?) on line 5113: használható\t\" \"\tv1\t[{\"lemma\": \"használható\", \"tag\": \"[/Adj][Nom]\", \"morphana\": \"használ[/V]=használ+ható[_ModPtcp/Adj]=ható+[Nom]=\", \"readable\": \"használ[/V] + ható[_ModPtcp/Adj] + [Nom]\", \"twolevel\": \"h:h a:a s:s z:z n:n á:á l:l :[/V] h:h a:a t:t ó:ó :[_ModPtcp/Adj] :[Nom]\"}, {\"lemma\": \"használható\", \"tag\": \"[/Adj][Nom]\", \"morphana\": \"használható[/Adj]=használható+[Nom]=\", \"readable\": \"használható[/Adj] + [Nom]\", \"twolevel\": \"h:h a:a s:s z:z n:n á:á l:l h:h a:a t:t ó:ó :[/Adj] :[Nom]\"}]\thasználható\t[/Adj][Nom] \n",
      "\n",
      "Bad verb (?) on line 5166: valósítható\t\" \"\tv1\t[{\"lemma\": \"valósítható\", \"tag\": \"[/Adj][Nom]\", \"morphana\": \"való[/Adj]=való+sít[_AdjVbz_Tr/V]=sít+ható[_ModPtcp/Adj]=ható+[Nom]=\", \"readable\": \"való[/Adj] + sít[_AdjVbz_Tr/V] + ható[_ModPtcp/Adj] + [Nom]\", \"twolevel\": \"v:v a:a l:l ó:ó :[/Adj] s:s í:í t:t :[_AdjVbz_Tr/V] h:h a:a t:t ó:ó :[_ModPtcp/Adj] :[Nom]\"}, {\"lemma\": \"valósítható\", \"tag\": \"[/Adj][Nom]\", \"morphana\": \"való[/N]=való+s[_Adjz:s/Adj]=s+ít[_AdjVbz_Tr/V]=ít+ható[_ModPtcp/Adj]=ható+[Nom]=\", \"readable\": \"való[/N] + s[_Adjz:s/Adj] + ít[_AdjVbz_Tr/V] + ható[_ModPtcp/Adj] + [Nom]\", \"twolevel\": \"v:v a:a l:l ó:ó :[/N] s:s :[_Adjz:s/Adj] í:í t:t :[_AdjVbz_Tr/V] h:h a:a t:t ó:ó :[_ModPtcp/Adj] :[Nom]\"}, {\"lemma\": \"valósítható\", \"tag\": \"[/Adj][Nom]\", \"morphana\": \"valós[/Adj]=valós+ít[_AdjVbz_Tr/V]=ít+ható[_ModPtcp/Adj]=ható+[Nom]=\", \"readable\": \"valós[/Adj] + ít[_AdjVbz_Tr/V] + ható[_ModPtcp/Adj] + [Nom]\", \"twolevel\": \"v:v a:a l:l ó:ó s:s :[/Adj] í:í t:t :[_AdjVbz_Tr/V] h:h a:a t:t ó:ó :[_ModPtcp/Adj] :[Nom]\"}, {\"lemma\": \"valósítható\", \"tag\": \"[/Adj][Nom]\", \"morphana\": \"valósít[/V]=valósít+ható[_ModPtcp/Adj]=ható+[Nom]=\", \"readable\": \"valósít[/V] + ható[_ModPtcp/Adj] + [Nom]\", \"twolevel\": \"v:v a:a l:l ó:ó s:s í:í t:t :[/V] h:h a:a t:t ó:ó :[_ModPtcp/Adj] :[Nom]\"}]\tvalósítható\t[/Adj][Nom] \n",
      "\n",
      "Bad verb (?) on line 5220: válthatók\t\"\"\tv1\t[{\"lemma\": \"váltható\", \"tag\": \"[/Adj][Pl][Nom]\", \"morphana\": \"vált[/V]=vált+ható[_ModPtcp/Adj]=ható+k[Pl]=k+[Nom]=\", \"readable\": \"vált[/V] + ható[_ModPtcp/Adj] + k[Pl] + [Nom]\", \"twolevel\": \"v:v á:á l:l t:t :[/V] h:h a:a t:t ó:ó :[_ModPtcp/Adj] k:k :[Pl] :[Nom]\"}]\tváltható\t[/Adj][Pl][Nom] \n",
      "\n",
      "Bad verb (?) on line 5282: fordult\t\" \"\tv1\t[{\"lemma\": \"fordul\", \"tag\": \"[/V][Pst.NDef.3Sg]\", \"morphana\": \"fordul[/V]=fordul+t[Pst.NDef.3Sg]=t\", \"readable\": \"fordul[/V] + t[Pst.NDef.3Sg]\", \"twolevel\": \"f:f o:o r:r d:d u:u l:l :[/V] t:t :[Pst.NDef.3Sg]\"}, {\"lemma\": \"fordult\", \"tag\": \"[/Adj][Nom]\", \"morphana\": \"fordul[/V]=fordul+t[_PerfPtcp/Adj]=t+[Nom]=\", \"readable\": \"fordul[/V] + t[_PerfPtcp/Adj] + [Nom]\", \"twolevel\": \"f:f o:o r:r d:d u:u l:l :[/V] t:t :[_PerfPtcp/Adj] :[Nom]\"}]\tfordult\t[/Adj][Nom] \n",
      "\n",
      "Bad verb (?) on line 5625: térítendő\t\" \"\tv2\t[{\"lemma\": \"térítendő\", \"tag\": \"[/Adj][Nom]\", \"morphana\": \"térít[/V]=térít+endő[_FutPtcp/Adj]=endő+[Nom]=\", \"readable\": \"térít[/V] + endő[_FutPtcp/Adj] + [Nom]\", \"twolevel\": \"t:t é:é r:r í:í t:t :[/V] e:e n:n d:d ő:ő :[_FutPtcp/Adj] :[Nom]\"}]\ttérítendő\t[/Adj][Nom] \n",
      "\n",
      "Bad verb (?) on line 5653: térítendő\t\" \"\tv3\t[{\"lemma\": \"térítendő\", \"tag\": \"[/Adj][Nom]\", \"morphana\": \"térít[/V]=térít+endő[_FutPtcp/Adj]=endő+[Nom]=\", \"readable\": \"térít[/V] + endő[_FutPtcp/Adj] + [Nom]\", \"twolevel\": \"t:t é:é r:r í:í t:t :[/V] e:e n:n d:d ő:ő :[_FutPtcp/Adj] :[Nom]\"}]\ttérítendő\t[/Adj][Nom] \n",
      "\n"
     ]
    }
   ],
   "source": [
    "from word import Word\n",
    "\n",
    "with open('pos_output.txt', encoding='utf-8') as infile:\n",
    "    header = next(infile)\n",
    "    Word.features = header.strip().split('\\t')\n",
    "    for n, line in enumerate(infile):\n",
    "        if line.strip() == '':\n",
    "            continue\n",
    "        token = Word(line.strip().split('\\t'))\n",
    "        if token.testid[0] == 'p' and not token.xpostag.startswith('[/Prev]'):\n",
    "            print(f\"Bad prev on line {n + 2}:\", token, '\\n')\n",
    "        if token.testid[0] == 'v' and not token.xpostag.startswith('[/V]'):\n",
    "            print(f\"Bad verb (?) on line {n + 2}:\", token, '\\n')\n"
   ]
  },
  {
   "cell_type": "markdown",
   "id": "376812dc",
   "metadata": {},
   "source": [
    "If there is any output, the line numbers refer to `pos_output.txt`.\n",
    "\n",
    "Check whether tokens annotated as separated preverbs are also analysed by morph,pos as preverbs. If not (e.g. if the preverb _meg_ is tagged by emtsv as a `[/Conj]`), **remove this annotation** (or the whole item if no annotation left) from the test set because `connect_prev` will necessarily fail due to incorrect emtsv annotation, which is extraneous to its performance evaluation.\n",
    "\n",
    "Exception: person-inflected preverb-like postpositions such as in `utánam\\1 dobják|1`, which are tagged by emtsv as `[/Post]`, and case-inflected personal pronouns such as in `hozzá\\1 voltam szokva|1`, which are tagged as `[/N|Pro]`, **should not be removed from the test set** since `connect_prev` should be able to handle these.\n",
    "\n",
    "If a token is annotated as the verb stem counterpart of a separated preverb, but is not tagged by emtsv as a verb, check whether the preverb annotation is correct, but if so, **do not remove this annotation** from the test set. `connect_prev` is supposed to be able to handle the connection of such separated preverbs.\n",
    "\n",
    "After all real errors have been corrected, rerun everything from step 1."
   ]
  },
  {
   "cell_type": "code",
   "execution_count": 14,
   "id": "c5c7ca9c",
   "metadata": {},
   "outputs": [],
   "source": [
    "!type pos_output.txt | python ../preverb > preverb_output.tsv"
   ]
  }
 ],
 "metadata": {
  "kernelspec": {
   "display_name": "Python 3 (ipykernel)",
   "language": "python",
   "name": "python3"
  },
  "language_info": {
   "codemirror_mode": {
    "name": "ipython",
    "version": 3
   },
   "file_extension": ".py",
   "mimetype": "text/x-python",
   "name": "python",
   "nbconvert_exporter": "python",
   "pygments_lexer": "ipython3",
   "version": "3.8.12"
  }
 },
 "nbformat": 4,
 "nbformat_minor": 5
}
